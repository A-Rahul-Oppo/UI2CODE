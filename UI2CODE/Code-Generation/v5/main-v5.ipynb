{
 "cells": [
  {
   "cell_type": "code",
   "execution_count": 4,
   "metadata": {},
   "outputs": [],
   "source": [
    "import numpy as np\n",
    "import pandas as pd\n",
    "\n",
    "from obj.Compos_DF import ComposDF\n",
    "from obj.Compo_HTML import *\n",
    "from obj.List import *\n",
    "from obj.Block import *\n",
    "import lib.draw as draw\n",
    "from obj.Page import Page"
   ]
  },
  {
   "cell_type": "code",
   "execution_count": 5,
   "metadata": {},
   "outputs": [],
   "source": [
    "name = 'data/9'\n",
    "compos = ComposDF(name + '.json', name + '.png')\n",
    "img = compos.img.copy()\n",
    "img_shape = compos.img_shape\n",
    "img_re = cv2.resize(img, img_shape)"
   ]
  },
  {
   "cell_type": "code",
   "execution_count": 6,
   "metadata": {
    "scrolled": true
   },
   "outputs": [
    {
     "name": "stderr",
     "output_type": "stream",
     "text": [
      "C:\\OPPO\\ANDROID\\UI2CODE\\Code-Generation\\v5\\lib\\pairing.py:90: FutureWarning: The frame.append method is deprecated and will be removed from pandas in a future version. Use pandas.concat instead.\n",
      "  merged_pairs = merged_pairs.append(group, sort=False)\n",
      "C:\\OPPO\\ANDROID\\UI2CODE\\Code-Generation\\v5\\lib\\pairing.py:90: FutureWarning: The frame.append method is deprecated and will be removed from pandas in a future version. Use pandas.concat instead.\n",
      "  merged_pairs = merged_pairs.append(group, sort=False)\n",
      "C:\\OPPO\\ANDROID\\UI2CODE\\Code-Generation\\v5\\lib\\pairing.py:90: FutureWarning: The frame.append method is deprecated and will be removed from pandas in a future version. Use pandas.concat instead.\n",
      "  merged_pairs = merged_pairs.append(group, sort=False)\n",
      "C:\\OPPO\\ANDROID\\UI2CODE\\Code-Generation\\v5\\lib\\pairing.py:90: FutureWarning: The frame.append method is deprecated and will be removed from pandas in a future version. Use pandas.concat instead.\n",
      "  merged_pairs = merged_pairs.append(group, sort=False)\n",
      "C:\\OPPO\\ANDROID\\UI2CODE\\Code-Generation\\v5\\lib\\pairing.py:90: FutureWarning: The frame.append method is deprecated and will be removed from pandas in a future version. Use pandas.concat instead.\n",
      "  merged_pairs = merged_pairs.append(group, sort=False)\n",
      "C:\\OPPO\\ANDROID\\UI2CODE\\Code-Generation\\v5\\lib\\pairing.py:90: FutureWarning: The frame.append method is deprecated and will be removed from pandas in a future version. Use pandas.concat instead.\n",
      "  merged_pairs = merged_pairs.append(group, sort=False)\n",
      "C:\\OPPO\\ANDROID\\UI2CODE\\Code-Generation\\v5\\lib\\pairing.py:90: FutureWarning: The frame.append method is deprecated and will be removed from pandas in a future version. Use pandas.concat instead.\n",
      "  merged_pairs = merged_pairs.append(group, sort=False)\n",
      "C:\\OPPO\\ANDROID\\UI2CODE\\Code-Generation\\v5\\lib\\pairing.py:90: FutureWarning: The frame.append method is deprecated and will be removed from pandas in a future version. Use pandas.concat instead.\n",
      "  merged_pairs = merged_pairs.append(group, sort=False)\n",
      "C:\\OPPO\\ANDROID\\UI2CODE\\Code-Generation\\v5\\obj\\Compos_DF.py:241: FutureWarning: The frame.append method is deprecated and will be removed from pandas in a future version. Use pandas.concat instead.\n",
      "  listed_compos = listed_compos.append(paired_compos)\n",
      "C:\\OPPO\\ANDROID\\UI2CODE\\Code-Generation\\v5\\obj\\Compos_DF.py:241: FutureWarning: The frame.append method is deprecated and will be removed from pandas in a future version. Use pandas.concat instead.\n",
      "  listed_compos = listed_compos.append(paired_compos)\n",
      "C:\\OPPO\\ANDROID\\UI2CODE\\Code-Generation\\v5\\obj\\Compos_DF.py:241: FutureWarning: The frame.append method is deprecated and will be removed from pandas in a future version. Use pandas.concat instead.\n",
      "  listed_compos = listed_compos.append(paired_compos)\n",
      "C:\\OPPO\\ANDROID\\UI2CODE\\Code-Generation\\v5\\obj\\Compos_DF.py:241: FutureWarning: The frame.append method is deprecated and will be removed from pandas in a future version. Use pandas.concat instead.\n",
      "  listed_compos = listed_compos.append(paired_compos)\n"
     ]
    }
   ],
   "source": [
    "compos.repetitive_group_recognition()    # group_nontext, group_text\n",
    "compos.pair_groups()                     # pair, pair_to, group\n",
    "compos.list_item_partition()             # list_item\n",
    "# compos.visualize_block('group')\n",
    "# compos.visualize_block('pair')"
   ]
  },
  {
   "cell_type": "code",
   "execution_count": 7,
   "metadata": {},
   "outputs": [],
   "source": [
    "lists, non_listed_compos = gather_lists_by_pair_and_group(compos.compos_dataframe[1:])\n",
    "generate_lists_html_css(lists)\n",
    "# visualize_CompoHTMLs(compos_html, img, img_shape)"
   ]
  },
  {
   "cell_type": "code",
   "execution_count": 8,
   "metadata": {
    "scrolled": true
   },
   "outputs": [
    {
     "ename": "error",
     "evalue": "OpenCV(4.5.5) D:\\a\\opencv-python\\opencv-python\\opencv\\modules\\highgui\\src\\window_w32.cpp:1261: error: (-27:Null pointer) NULL window: 'compos' in function 'cvDestroyWindow'\n",
     "output_type": "error",
     "traceback": [
      "\u001b[1;31m---------------------------------------------------------------------------\u001b[0m",
      "\u001b[1;31merror\u001b[0m                                     Traceback (most recent call last)",
      "Input \u001b[1;32mIn [8]\u001b[0m, in \u001b[0;36m<cell line: 3>\u001b[1;34m()\u001b[0m\n\u001b[0;32m      1\u001b[0m compos_html \u001b[38;5;241m=\u001b[39m [li\u001b[38;5;241m.\u001b[39mlist_obj \u001b[38;5;28;01mfor\u001b[39;00m li \u001b[38;5;129;01min\u001b[39;00m lists] \u001b[38;5;241m+\u001b[39m non_listed_compos\n\u001b[0;32m      2\u001b[0m blocks \u001b[38;5;241m=\u001b[39m slice_blocks(compos_html, \u001b[38;5;124m'\u001b[39m\u001b[38;5;124mv\u001b[39m\u001b[38;5;124m'\u001b[39m)\n\u001b[1;32m----> 3\u001b[0m \u001b[43mvisualize_blocks\u001b[49m\u001b[43m(\u001b[49m\u001b[43mblocks\u001b[49m\u001b[43m,\u001b[49m\u001b[43m \u001b[49m\u001b[43mimg\u001b[49m\u001b[43m,\u001b[49m\u001b[43m \u001b[49m\u001b[43mimg_shape\u001b[49m\u001b[43m)\u001b[49m\n",
      "File \u001b[1;32mC:\\OPPO\\ANDROID\\UI2CODE\\Code-Generation\\v5\\obj\\Block.py:92\u001b[0m, in \u001b[0;36mvisualize_blocks\u001b[1;34m(blocks, img, img_shape)\u001b[0m\n\u001b[0;32m     90\u001b[0m cv2\u001b[38;5;241m.\u001b[39mimshow(\u001b[38;5;124m'\u001b[39m\u001b[38;5;124mcompos\u001b[39m\u001b[38;5;124m'\u001b[39m, board)\n\u001b[0;32m     91\u001b[0m cv2\u001b[38;5;241m.\u001b[39mwaitKey()\n\u001b[1;32m---> 92\u001b[0m \u001b[43mcv2\u001b[49m\u001b[38;5;241;43m.\u001b[39;49m\u001b[43mdestroyWindow\u001b[49m\u001b[43m(\u001b[49m\u001b[38;5;124;43m'\u001b[39;49m\u001b[38;5;124;43mcompos\u001b[39;49m\u001b[38;5;124;43m'\u001b[39;49m\u001b[43m)\u001b[49m\n",
      "\u001b[1;31merror\u001b[0m: OpenCV(4.5.5) D:\\a\\opencv-python\\opencv-python\\opencv\\modules\\highgui\\src\\window_w32.cpp:1261: error: (-27:Null pointer) NULL window: 'compos' in function 'cvDestroyWindow'\n"
     ]
    }
   ],
   "source": [
    "compos_html = [li.list_obj for li in lists] + non_listed_compos\n",
    "blocks = slice_blocks(compos_html, 'v')\n",
    "visualize_blocks(blocks, img, img_shape)"
   ]
  },
  {
   "cell_type": "code",
   "execution_count": null,
   "metadata": {},
   "outputs": [],
   "source": [
    "b = blocks[2]\n",
    "visualize_blocks(b.sub_blocks, img, img_shape)"
   ]
  },
  {
   "cell_type": "code",
   "execution_count": null,
   "metadata": {},
   "outputs": [],
   "source": [
    "page = Page()\n",
    "for block in blocks:\n",
    "    page.add_compo(block.html_script, block.css_script)"
   ]
  },
  {
   "cell_type": "code",
   "execution_count": null,
   "metadata": {},
   "outputs": [],
   "source": [
    "page.export()"
   ]
  }
 ],
 "metadata": {
  "kernelspec": {
   "display_name": "Python 3 (ipykernel)",
   "language": "python",
   "name": "python3"
  },
  "language_info": {
   "codemirror_mode": {
    "name": "ipython",
    "version": 3
   },
   "file_extension": ".py",
   "mimetype": "text/x-python",
   "name": "python",
   "nbconvert_exporter": "python",
   "pygments_lexer": "ipython3",
   "version": "3.10.5"
  }
 },
 "nbformat": 4,
 "nbformat_minor": 2
}
